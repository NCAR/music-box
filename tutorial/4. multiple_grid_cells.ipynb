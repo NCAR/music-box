{
 "cells": [
  {
   "cell_type": "markdown",
   "id": "7030540f",
   "metadata": {},
   "source": [
    "# Multiple Grid Cells in MUSICA\n",
    "In MUSICA, the <i>State</i> object that is present within the <i>Solver</i> object has an attribute called <i>number_of_grid_cells</i>.</br>\n",
    "This attribute dictates the number of independent sets of well-mixed air masses whose chemical system will be solved by the same numerical solver.</br>\n",
    "This tutorial will go over a simple example of solving a multi-grid-cell chemical system in MUSICA."
   ]
  },
  {
   "cell_type": "markdown",
   "id": "008e870b",
   "metadata": {},
   "source": [
    "## 1. Importing Libraries\n",
    "Below is a list of the required libraries for this tutorial:"
   ]
  },
  {
   "cell_type": "code",
   "execution_count": 1,
   "id": "7c921c61",
   "metadata": {},
   "outputs": [],
   "source": [
    "import musica\n",
    "import musica.mechanism_configuration as mc\n",
    "import matplotlib.pyplot as plt\n",
    "import pandas as pd\n",
    "import numpy as np\n",
    "pd.set_option('display.float_format', str) # This is done to make the arrays more readable\n",
    "np.set_printoptions(suppress=True) # This is done to make the arrays more readable"
   ]
  },
  {
   "cell_type": "markdown",
   "id": "01472a4f",
   "metadata": {},
   "source": [
    "## 2. Defining a System\n",
    "\n",
    "This code snippet is a MUSICA version of setting up a system, which has an identical workflow to MusicBox.</br>\n",
    "For an explanation of this code in MusicBox, please refer to the [Basic Workflow Jupyter Notebook](./1.%20basic_workflow.ipynb)."
   ]
  },
  {
   "cell_type": "code",
   "execution_count": 2,
   "id": "6b1084ee",
   "metadata": {},
   "outputs": [],
   "source": [
    "A = mc.Species(name=\"A\") # Create each of the species with their respective names\n",
    "B = mc.Species(name=\"B\")\n",
    "C = mc.Species(name=\"C\")\n",
    "species = [A, B, C] # Bundle the species into a list\n",
    "gas = mc.Phase(name=\"gas\", species=species) # Create a gas phase object containing the species\n",
    "\n",
    "r1 = mc.Arrhenius( # Create the reactions with their name, constants, reactants, products, and phase\n",
    "    name=\"A_to_B\",\n",
    "    A=4.0e-3,  # Pre-exponential factor\n",
    "    C=50,      # Activation energy (units assumed to be K)\n",
    "    reactants=[A],\n",
    "    products=[B],\n",
    "    gas_phase=gas\n",
    ")\n",
    "\n",
    "r2 = mc.Arrhenius(\n",
    "    name=\"B_to_C\",\n",
    "    A=4.0e-3,\n",
    "    C=50,  \n",
    "    reactants=[B],\n",
    "    products=[C],\n",
    "    gas_phase=gas\n",
    ")\n",
    "\n",
    "mechanism = mc.Mechanism( # Define the mechanism which contains a name, the species, the phases, and reactions\n",
    "    name=\"musica_micm_example\",\n",
    "    species=species,\n",
    "    phases=[gas],\n",
    "    reactions=[r1, r2]\n",
    ")"
   ]
  },
  {
   "cell_type": "markdown",
   "id": "7861e510",
   "metadata": {},
   "source": [
    "## 3. Creating the Solver\n",
    "Something more unique to MUSICA is that you have to manually define the solver.</br>\n",
    "A solver integrates the chemical reactions that determine how atmospheric chemistry proceeds over time.</br>\n",
    "There are a handful of solvers available, but Rosenbrock Standard Order will be used here.</br>\n",
    "For more information on the types of solvers available, go [here](https://ncar.github.io/micm/user_guide/solver_configurations.html)."
   ]
  },
  {
   "cell_type": "code",
   "execution_count": 3,
   "id": "18bb7d49",
   "metadata": {},
   "outputs": [],
   "source": [
    "solver = musica.MICM(mechanism = mechanism, solver_type = musica.SolverType.rosenbrock_standard_order)"
   ]
  },
  {
   "cell_type": "markdown",
   "id": "2199a26f",
   "metadata": {},
   "source": [
    "## 4. Creating the State\n",
    "For MUSICA, the state must be created manually as well, with the number of grid cells being passed into the <i>create_state()</i> function.</br>\n",
    "The state represents everything pertinent to solve chemistry. By solving, we meaning determining the concentrations at the next time step.</br>\n",
    "Feel free to change the <i>num_grid_cells</i> value to experiment yourself."
   ]
  },
  {
   "cell_type": "code",
   "execution_count": 4,
   "id": "d91a4be8",
   "metadata": {},
   "outputs": [],
   "source": [
    "num_grid_cells = 2\n",
    "state = solver.create_state(num_grid_cells)"
   ]
  },
  {
   "cell_type": "markdown",
   "id": "54f3e880",
   "metadata": {},
   "source": [
    "## 5. Populating the Grid Cells\n",
    "5 dimensions will be used to populate the data for each of the air masses:\n",
    "* temperature (Kelvin),\n",
    "* pressure (Pascals), and\n",
    "* the concentrations of each of the species (mol/m<sup>3</sup>).\n",
    "\n",
    "For the sake of simplicity, the values used are repeated across every grid cell, hence the use of NumPy's <i>repeat()</i> function.</br>\n",
    "The resulting array is displayed so that you can visualize what the functions did to the data.</br>\n",
    "Do note that the ordering inside the array matters and cannot be changed."
   ]
  },
  {
   "cell_type": "code",
   "execution_count": 5,
   "id": "1dadda9c",
   "metadata": {},
   "outputs": [
    {
     "data": {
      "text/plain": [
       "array([[   300. , 101253.3,      5. ,      5. ,      5. ],\n",
       "       [   300. , 101253.3,      5. ,      5. ,      5. ]])"
      ]
     },
     "metadata": {},
     "output_type": "display_data"
    }
   ],
   "source": [
    "box_model_values = [[300, 101253.3, 5, 5, 5]]\n",
    "box_model_values = np.repeat(box_model_values, num_grid_cells, axis = 0)\n",
    "display(box_model_values)"
   ]
  },
  {
   "cell_type": "markdown",
   "id": "08d6e59c",
   "metadata": {},
   "source": [
    "## 6. Splitting up the Array Output\n",
    "Next, the values from the <i>box_model_values</i> array are taken and populated into variables so that they can be passed into the solver's state.</br>\n",
    "The sample is organized into 5 columns that represent the 5 variables.</br>\n",
    "The sample's rows each represent a distinct grid cell.</br>\n",
    "These columns are populated into their respective variables and then passed into the solver's state.</br>\n",
    "Do note that <i>set_conditions()</i> and <i>set_concentrations()</i> must be called with their respective arguments for the solver to successfully run.</br>\n",
    "The concentrations must go through the extra step of being bundled into a dictionary since MUSICA explicitly requires a dictionary argument in the <i>set_concentrations</i> function.</br>\n",
    "Lastly, an empty array is initialized to represent the solved concentration array at every time step, as well as the time step length, simulation length, and the current time step (all in seconds)."
   ]
  },
  {
   "cell_type": "code",
   "execution_count": 6,
   "id": "e0a74a68",
   "metadata": {},
   "outputs": [],
   "source": [
    "temperatures = box_model_values[:, 0]\n",
    "pressures = box_model_values[:, 1]\n",
    "concentrations = {\n",
    "    \"A\": [],\n",
    "    \"B\": [],\n",
    "    \"C\": []\n",
    "}\n",
    "concentrations[\"A\"] = box_model_values[:, 2]\n",
    "concentrations[\"B\"] = box_model_values[:, 3]\n",
    "concentrations[\"C\"] = box_model_values[:, 4]\n",
    "\n",
    "state.set_conditions(temperatures, pressures)\n",
    "state.set_concentrations(concentrations)\n",
    "concentrations_solved = []\n",
    "time_step_length = 1\n",
    "sim_length = 60\n",
    "curr_time = 0"
   ]
  },
  {
   "cell_type": "markdown",
   "id": "1238f02b",
   "metadata": {},
   "source": [
    "## 7. Running the Solver\n",
    "This code solves the system at every specified time step and the solved concentrations are appended to the array.</br>\n",
    "The first step will always be the initial conditions since at time = 0 seconds the reaction has not begun."
   ]
  },
  {
   "cell_type": "code",
   "execution_count": 7,
   "id": "76b21308",
   "metadata": {},
   "outputs": [],
   "source": [
    "while curr_time <= sim_length:\n",
    "    solver.solve(state, curr_time)\n",
    "    concentrations_solved.append(state.get_concentrations())\n",
    "    curr_time += time_step_length"
   ]
  },
  {
   "cell_type": "markdown",
   "id": "5d2185c0",
   "metadata": {},
   "source": [
    "## 8. Preparing the Results\n",
    "Here, a new array is made that grabs only the first value (grid cell) for each key (species) at every time step.</br>\n",
    "The time step index is divided by the time_step_length to account for time step lengths that are greater than one for proper array indexing.</br>\n",
    "That new array is then passed into a Pandas DataFrame with the concentration columns renamed.</br>\n",
    "Next, a time column is created from a range that represents the elapsed time at each time step.</br>\n",
    "In this simulation, the temperature, pressure, and air density are all constant, so numpy's <i>repeat()</i> function is used to repeat their respective values for every time step.</br>\n",
    "Once all the attributes are added to the DataFrame, their order is changed to follow a more logical flow."
   ]
  },
  {
   "cell_type": "code",
   "execution_count": 8,
   "id": "e9dda1ed",
   "metadata": {},
   "outputs": [],
   "source": [
    "concentrations_solved_pd = []\n",
    "for i in range(0, sim_length + 1, time_step_length):\n",
    "    concentrations_solved_pd.append({key: value[0] for key, value in concentrations_solved[int(i/time_step_length)].items()})\n",
    "df = pd.DataFrame(concentrations_solved_pd)\n",
    "df = df.rename(columns = {'A' : 'CONC.A.mol m-3', 'B' : 'CONC.B.mol m-3', 'C' : 'CONC.C.mol m-3'})\n",
    "df['time.s'] = list(map(float, range(0, sim_length + 1, time_step_length)))\n",
    "df['ENV.temperature.K'] = np.repeat(temperatures[0], sim_length/time_step_length + 1.0)\n",
    "df['ENV.pressure.Pa'] = np.repeat(pressures[0], sim_length/time_step_length + 1.0)\n",
    "df['ENV.air number density.mol m-3'] = np.repeat(state.get_conditions()['air_density'][0], sim_length/time_step_length + 1.0)\n",
    "df = df[['time.s', 'ENV.temperature.K', 'ENV.pressure.Pa', 'ENV.air number density.mol m-3', 'CONC.A.mol m-3', 'CONC.B.mol m-3', 'CONC.C.mol m-3']]"
   ]
  },
  {
   "cell_type": "markdown",
   "id": "ada2398b",
   "metadata": {},
   "source": [
    "## 9. Viewing the Results\n",
    "With the DataFrame being fully prepared now, it is displayed and plotted to show the evolution of one of the systems over time."
   ]
  },
  {
   "cell_type": "code",
   "execution_count": 9,
   "id": "d49f1b08",
   "metadata": {},
   "outputs": [
    {
     "data": {
      "text/html": [
       "<div>\n",
       "<style scoped>\n",
       "    .dataframe tbody tr th:only-of-type {\n",
       "        vertical-align: middle;\n",
       "    }\n",
       "\n",
       "    .dataframe tbody tr th {\n",
       "        vertical-align: top;\n",
       "    }\n",
       "\n",
       "    .dataframe thead th {\n",
       "        text-align: right;\n",
       "    }\n",
       "</style>\n",
       "<table border=\"1\" class=\"dataframe\">\n",
       "  <thead>\n",
       "    <tr style=\"text-align: right;\">\n",
       "      <th></th>\n",
       "      <th>time.s</th>\n",
       "      <th>ENV.temperature.K</th>\n",
       "      <th>ENV.pressure.Pa</th>\n",
       "      <th>ENV.air number density.mol m-3</th>\n",
       "      <th>CONC.A.mol m-3</th>\n",
       "      <th>CONC.B.mol m-3</th>\n",
       "      <th>CONC.C.mol m-3</th>\n",
       "    </tr>\n",
       "  </thead>\n",
       "  <tbody>\n",
       "    <tr>\n",
       "      <th>0</th>\n",
       "      <td>0.0</td>\n",
       "      <td>300.0</td>\n",
       "      <td>101253.3</td>\n",
       "      <td>40.59324282282551</td>\n",
       "      <td>5.0</td>\n",
       "      <td>5.0</td>\n",
       "      <td>5.0</td>\n",
       "    </tr>\n",
       "    <tr>\n",
       "      <th>1</th>\n",
       "      <td>1.0</td>\n",
       "      <td>300.0</td>\n",
       "      <td>101253.3</td>\n",
       "      <td>40.59324282282551</td>\n",
       "      <td>4.976428528398802</td>\n",
       "      <td>4.999944351093875</td>\n",
       "      <td>5.0236271205073235</td>\n",
       "    </tr>\n",
       "    <tr>\n",
       "      <th>2</th>\n",
       "      <td>2.0</td>\n",
       "      <td>300.0</td>\n",
       "      <td>101253.3</td>\n",
       "      <td>40.59324282282551</td>\n",
       "      <td>4.929618429433882</td>\n",
       "      <td>4.999502304184354</td>\n",
       "      <td>5.070879266381759</td>\n",
       "    </tr>\n",
       "    <tr>\n",
       "      <th>3</th>\n",
       "      <td>3.0</td>\n",
       "      <td>300.0</td>\n",
       "      <td>101253.3</td>\n",
       "      <td>40.59324282282551</td>\n",
       "      <td>4.860227571898497</td>\n",
       "      <td>4.998027906909858</td>\n",
       "      <td>5.141744521191641</td>\n",
       "    </tr>\n",
       "    <tr>\n",
       "      <th>4</th>\n",
       "      <td>4.0</td>\n",
       "      <td>300.0</td>\n",
       "      <td>101253.3</td>\n",
       "      <td>40.59324282282551</td>\n",
       "      <td>4.769223461910271</td>\n",
       "      <td>4.994590343685047</td>\n",
       "      <td>5.236186194404681</td>\n",
       "    </tr>\n",
       "    <tr>\n",
       "      <th>...</th>\n",
       "      <td>...</td>\n",
       "      <td>...</td>\n",
       "      <td>...</td>\n",
       "      <td>...</td>\n",
       "      <td>...</td>\n",
       "      <td>...</td>\n",
       "      <td>...</td>\n",
       "    </tr>\n",
       "    <tr>\n",
       "      <th>56</th>\n",
       "      <td>56.0</td>\n",
       "      <td>300.0</td>\n",
       "      <td>101253.3</td>\n",
       "      <td>40.59324282282551</td>\n",
       "      <td>0.002651107160467822</td>\n",
       "      <td>0.022649502677897896</td>\n",
       "      <td>14.974699390161621</td>\n",
       "    </tr>\n",
       "    <tr>\n",
       "      <th>57</th>\n",
       "      <td>57.0</td>\n",
       "      <td>300.0</td>\n",
       "      <td>101253.3</td>\n",
       "      <td>40.59324282282551</td>\n",
       "      <td>0.0020250213465128905</td>\n",
       "      <td>0.01784640325737679</td>\n",
       "      <td>14.980128575396096</td>\n",
       "    </tr>\n",
       "    <tr>\n",
       "      <th>58</th>\n",
       "      <td>58.0</td>\n",
       "      <td>300.0</td>\n",
       "      <td>101253.3</td>\n",
       "      <td>40.59324282282551</td>\n",
       "      <td>0.0015394935543717359</td>\n",
       "      <td>0.01398971727457048</td>\n",
       "      <td>14.984470789171041</td>\n",
       "    </tr>\n",
       "    <tr>\n",
       "      <th>59</th>\n",
       "      <td>59.0</td>\n",
       "      <td>300.0</td>\n",
       "      <td>101253.3</td>\n",
       "      <td>40.59324282282551</td>\n",
       "      <td>0.0011648552812954611</td>\n",
       "      <td>0.010910311593626484</td>\n",
       "      <td>14.987924833125062</td>\n",
       "    </tr>\n",
       "    <tr>\n",
       "      <th>60</th>\n",
       "      <td>60.0</td>\n",
       "      <td>300.0</td>\n",
       "      <td>101253.3</td>\n",
       "      <td>40.59324282282551</td>\n",
       "      <td>0.0008772265708207769</td>\n",
       "      <td>0.008465235540415044</td>\n",
       "      <td>14.990657537888747</td>\n",
       "    </tr>\n",
       "  </tbody>\n",
       "</table>\n",
       "<p>61 rows × 7 columns</p>\n",
       "</div>"
      ],
      "text/plain": [
       "    time.s  ENV.temperature.K  ENV.pressure.Pa  \\\n",
       "0      0.0              300.0         101253.3   \n",
       "1      1.0              300.0         101253.3   \n",
       "2      2.0              300.0         101253.3   \n",
       "3      3.0              300.0         101253.3   \n",
       "4      4.0              300.0         101253.3   \n",
       "..     ...                ...              ...   \n",
       "56    56.0              300.0         101253.3   \n",
       "57    57.0              300.0         101253.3   \n",
       "58    58.0              300.0         101253.3   \n",
       "59    59.0              300.0         101253.3   \n",
       "60    60.0              300.0         101253.3   \n",
       "\n",
       "    ENV.air number density.mol m-3        CONC.A.mol m-3       CONC.B.mol m-3  \\\n",
       "0                40.59324282282551                   5.0                  5.0   \n",
       "1                40.59324282282551     4.976428528398802    4.999944351093875   \n",
       "2                40.59324282282551     4.929618429433882    4.999502304184354   \n",
       "3                40.59324282282551     4.860227571898497    4.998027906909858   \n",
       "4                40.59324282282551     4.769223461910271    4.994590343685047   \n",
       "..                             ...                   ...                  ...   \n",
       "56               40.59324282282551  0.002651107160467822 0.022649502677897896   \n",
       "57               40.59324282282551 0.0020250213465128905  0.01784640325737679   \n",
       "58               40.59324282282551 0.0015394935543717359  0.01398971727457048   \n",
       "59               40.59324282282551 0.0011648552812954611 0.010910311593626484   \n",
       "60               40.59324282282551 0.0008772265708207769 0.008465235540415044   \n",
       "\n",
       "       CONC.C.mol m-3  \n",
       "0                 5.0  \n",
       "1  5.0236271205073235  \n",
       "2   5.070879266381759  \n",
       "3   5.141744521191641  \n",
       "4   5.236186194404681  \n",
       "..                ...  \n",
       "56 14.974699390161621  \n",
       "57 14.980128575396096  \n",
       "58 14.984470789171041  \n",
       "59 14.987924833125062  \n",
       "60 14.990657537888747  \n",
       "\n",
       "[61 rows x 7 columns]"
      ]
     },
     "metadata": {},
     "output_type": "display_data"
    },
    {
     "data": {
      "image/png": "[encoded data removed]",
      "text/plain": [
       "<Figure size 640x480 with 1 Axes>"
      ]
     },
     "metadata": {},
     "output_type": "display_data"
    }
   ],
   "source": [
    "display(df)\n",
    "df.plot(x='time.s', y=['CONC.A.mol m-3', 'CONC.B.mol m-3', 'CONC.C.mol m-3'], title='Concentration over time', ylabel='Concentration (mol m-3)', xlabel='Time (s)')\n",
    "plt.show()"
   ]
  }
 ],
 "metadata": {
  "kernelspec": {
   "display_name": "musicbox",
   "language": "python",
   "name": "python3"
  },
  "language_info": {
   "codemirror_mode": {
    "name": "ipython",
    "version": 3
   },
   "file_extension": ".py",
   "mimetype": "text/x-python",
   "name": "python",
   "nbconvert_exporter": "python",
   "pygments_lexer": "ipython3",
   "version": "3.11.12"
  }
 },
 "nbformat": 4,
 "nbformat_minor": 5
}
