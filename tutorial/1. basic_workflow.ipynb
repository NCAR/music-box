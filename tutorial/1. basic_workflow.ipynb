{
 "cells": [
  {
   "cell_type": "markdown",
   "id": "05d1beeb",
   "metadata": {},
   "source": [
    "# MusicBox Basic Workflow Tutorial\n",
    "\n",
    "Hello, and welcome to the MusicBox basic workflow tutorial! Here, we will be covering some basic usages of the MusicBox library."
   ]
  },
  {
   "cell_type": "markdown",
   "id": "c752b1cd",
   "metadata": {},
   "source": [
    "# What is MusicBox?\n",
    "\n",
    "MusicBox is a library with a Python API for box modeling that builds on top of MUSICA, a collection of modeling software that allows for robust modeling of chemistry in Earth's atmosphere.</br>\n",
    "Boxes refer to a set of adjacent grid cells that represent the exchange of information."
   ]
  },
  {
   "cell_type": "markdown",
   "id": "5ccc7e1b",
   "metadata": {},
   "source": [
    "## 1. Downloading MusicBox\n",
    "\n",
    "To install MusicBox onto your device, run\n",
    "\n",
    "```\n",
    "pip install acom-music-box\n",
    "```\n",
    "\n",
    "<b>Note:</b> Installing MusicBox will automatically install MUSICA, a required dependency of MusicBox that is used throughout this tutorial."
   ]
  },
  {
   "cell_type": "markdown",
   "id": "f20cd18a",
   "metadata": {},
   "source": [
    "## 2. Importing MusicBox\n",
    "\n",
    "To import your newly-downloaded MusicBox into a Python file, as well as some other libraries so that this demo can run:"
   ]
  },
  {
   "cell_type": "code",
   "execution_count": 1,
   "id": "fd1b5247",
   "metadata": {},
   "outputs": [],
   "source": [
    "from acom_music_box import MusicBox, Conditions\n",
    "import musica.mechanism_configuration as mc\n",
    "import matplotlib.pyplot as plt"
   ]
  },
  {
   "cell_type": "markdown",
   "id": "1ec851da",
   "metadata": {},
   "source": [
    "## 3. Defining a System\n",
    "\n",
    "In MusicBox, a system is defined by a mechanism that includes:\n",
    "* a set of species and their respective phases, and\n",
    "* a set of reactions that the species participate in.\n",
    "\n",
    "The system is the fundamental building block of MusicBox and is your main concern when using this library.</br>\n",
    "The following steps will walk you through:\n",
    "* creating your own system,\n",
    "* solving your system, and\n",
    "* viewing and visualizing your results.</br>"
   ]
  },
  {
   "cell_type": "markdown",
   "id": "ab84f835",
   "metadata": {},
   "source": [
    "### 3a. Defining Species\n",
    "\n",
    "A species is simply a reactant or product in a chemical reaction.</br>\n",
    "You have the freedom to name a species anything in MusicBox, just make sure that it is logical to you.</br>\n",
    "For extended documentation about the Species class, go [here](https://ncar.github.io/musica/api/python.html#musica.mechanism_configuration.Species).</br>\n",
    "Here is a snippet that defines three chemical species:"
   ]
  },
  {
   "cell_type": "code",
   "execution_count": 2,
   "id": "654b7e30",
   "metadata": {},
   "outputs": [],
   "source": [
    "# Create each of the species that will be simulated\n",
    "X = mc.Species(name=\"X\")\n",
    "Y = mc.Species(name=\"Y\")\n",
    "Z = mc.Species(name=\"Z\")\n",
    "species = {\"X\": X, \"Y\": Y, \"Z\": Z}\n",
    "gas = mc.Phase(name=\"gas\", species=list(species.values()))"
   ]
  },
  {
   "cell_type": "markdown",
   "id": "9e6190b7",
   "metadata": {},
   "source": [
    "This code block creates 3 species called X, Y, and Z and adds them to a dictionary called species.</br>\n",
    "The variable name and the name of the species are not required to be the same, but it is strongly recommended so that your code is more organized.</br>\n",
    "Next, a phase is created named \"gas\". In MusicBox, phases are essentially collections of species that are assumed to be well-mixed.</br>\n",
    "<b>Note:</b> Creating the species dictionary and the phase is mandatory, as subsequent code relies on the data being bundled in specific object types."
   ]
  },
  {
   "cell_type": "markdown",
   "id": "1afce428",
   "metadata": {},
   "source": [
    "### 3b. Defining Reactions\n",
    "\n",
    "A chemical reaction is a process in which a set of reactants transforms into a set of products.</br>\n",
    "To define a reaction in MusicBox:"
   ]
  },
  {
   "cell_type": "code",
   "execution_count": 3,
   "id": "bf790275",
   "metadata": {},
   "outputs": [],
   "source": [
    "# Create the reactions that the species undergo in the\n",
    "arr1 = mc.Arrhenius(name=\"X->Y\", A=4.0e-3, C=50, reactants=[species[\"X\"]], products=[species[\"Y\"]], gas_phase=gas)\n",
    "arr2 = mc.Arrhenius(name=\"Y->Z\", A=4.0e-3, C=50, reactants=[species[\"Y\"]], products=[species[\"Z\"]], gas_phase=gas)\n",
    "rxns = {\"X->Y\": arr1, \"Y->Z\": arr2}"
   ]
  },
  {
   "cell_type": "markdown",
   "id": "00cb442b",
   "metadata": {},
   "source": [
    "This code block uses the gas and species variables from the previous code block.</br>\n",
    "Using the species and gas variables, it creates two reactions: arr1 and arr2.</br>\n",
    "The arr1 variable represents the conversion of X (reactant) into Y (product) and defines Arrhenius rate constant parameters A and C.</br>\n",
    "The arr2 variable is just like arr1, but instead it represents the conversion of Y (reactant) into Z (product).</br>\n",
    "These reactions are then bundled into a dictionary called rxns just like the species before.</br>\n",
    "More information on the Arrhenius reaction can be found [here](https://ncar.github.io/musica/api/python.html#musica.mechanism_configuration.Arrhenius).</br>\n",
    "<b>Note:</b> MusicBox allows for users to experiment with an array of reaction types.</br>\n",
    "Go [here](https://ncar.github.io/musica/api/python.html#module-musica.mechanism_configuration) to view a list of supported reactions and their parameters."
   ]
  },
  {
   "cell_type": "markdown",
   "id": "f465f101",
   "metadata": {},
   "source": [
    "### 3c. Defining Mechanisms\n",
    "\n",
    "A mechanism represents a set of species with their respective phases and reactions.</br>\n",
    "For extended documentation about the Mechanism class, go [here](https://ncar.github.io/musica/api/python.html#musica.mechanism_configuration.Mechanism).</br>\n",
    "To create a mechanism in MusicBox:"
   ]
  },
  {
   "cell_type": "code",
   "execution_count": 4,
   "id": "25da888c",
   "metadata": {},
   "outputs": [],
   "source": [
    "# Create the mechanism that is defined by the species, phases, and reactions\n",
    "mechanism = mc.Mechanism(name=\"tutorial_mechanism\", species=list(species.values()), phases=[gas], reactions=list(rxns.values()))"
   ]
  },
  {
   "cell_type": "markdown",
   "id": "b4ee16f5",
   "metadata": {},
   "source": [
    "This code block builds upon the previous two functions, using the previously-created species, phases, and reactions as arguments.</br>\n",
    "It simply creates a mechanism variable that represents an instance of the Mechanism class.</br>\n",
    "The mechanism is first given a name, then the species, phase, and reactions are passed into their respective arguments."
   ]
  },
  {
   "cell_type": "markdown",
   "id": "6cbf0090",
   "metadata": {},
   "source": [
    "## 4. Creating a Box Model\n",
    "\n",
    "Box models allow you to solve your previously-created mechanism under conditions that can change the reactions' rates over time.</br>\n",
    "Each instance of the MusicBox class acts as an independent box model.</br>\n",
    "You can also define the length of the simulations and the time steps.</br>\n",
    "To initialize a new box model:"
   ]
  },
  {
   "cell_type": "code",
   "execution_count": 5,
   "id": "ae8134a6",
   "metadata": {},
   "outputs": [],
   "source": [
    "# Create the box model that contains the mechanism\n",
    "box_model = MusicBox()\n",
    "box_model.load_mechanism(mechanism)"
   ]
  },
  {
   "cell_type": "markdown",
   "id": "e1ecacc8",
   "metadata": {},
   "source": [
    "This code block is straightforward, simply creating an instance of the MusicBox class and then loading the mechanism as an argument for the box model."
   ]
  },
  {
   "cell_type": "markdown",
   "id": "aa814af4",
   "metadata": {},
   "source": [
    "### 4a. Adding Initial Conditions to Your Box Model\n",
    "\n",
    "The initial conditions of the model define the environment the mechanism takes place in at the start of the simulation.</br>\n",
    "Some conditions that are recommended to define for your system include:\n",
    "* the temperature, measured in Kelvin (K),\n",
    "* the pressure, measured in Pascals (Pa), and\n",
    "* the concentration of each of the species, measured in mol/m<sup>3</sup>.\n",
    "\n",
    "For extended documentation about the Conditions class, go [here](https://ncar.github.io/musica/api/python.html#musica.types.Conditions).</br>\n",
    "To set the initial conditions of your box model:"
   ]
  },
  {
   "cell_type": "code",
   "execution_count": 6,
   "id": "3e83223d",
   "metadata": {},
   "outputs": [],
   "source": [
    "# Set the conditions of the box model at time = 0 s\n",
    "box_model.initial_conditions = Conditions(\n",
    "    temperature=298.15, # Units: Kelvin (K)\n",
    "    pressure=101325.0, # Units: Pascals (Pa)\n",
    "    species_concentrations={ # Units: mol/m^3\n",
    "        \"X\": 3.75,\n",
    "        \"Y\": 5.0,\n",
    "        \"Z\": 2.5,\n",
    "    }\n",
    ")"
   ]
  },
  {
   "cell_type": "markdown",
   "id": "021d5e5d",
   "metadata": {},
   "source": [
    "This code block sets the box model's initial_conditons attribute.</br>\n",
    "In the condition class, you should provide a temperature, pressure, air density (unless you just want it based on the Ideal Gas Law, which is the default), and each of the species' concentrations as arguments."
   ]
  },
  {
   "cell_type": "markdown",
   "id": "c49c4078",
   "metadata": {},
   "source": [
    "### 4b. Adding Evolving Conditions to Your Box Model\n",
    "\n",
    "An evolving condition will change the environment of the mechanism at the defined time value.</br>\n",
    "These changes can include species concentration, temperature, pressure, et cetera.</br>\n",
    "To create an evolving condition for your box model:"
   ]
  },
  {
   "cell_type": "code",
   "execution_count": 7,
   "id": "b157a3e8",
   "metadata": {},
   "outputs": [],
   "source": [
    "# Set the box model conditions at the defined time\n",
    "box_model.add_evolving_condition(\n",
    "    100.0, # Units: Seconds (s)\n",
    "    Conditions(\n",
    "        temperature=310.0, # Units: Kelvin (K)\n",
    "        pressure=100100.0 # Units: Pascals (Pa)\n",
    "    )\n",
    ")"
   ]
  },
  {
   "cell_type": "markdown",
   "id": "9c7b120f",
   "metadata": {},
   "source": [
    "This code block is similar to the previous one for setting the initial conditions.</br>\n",
    "Just like in the previous code block, a Conditions object is created as an argument for the box model's <i>add_evolving_condition()</i> function.</br>\n",
    "However, there is now a new value put at the very beginning of the function that represents the time at which the evolving conditions takes place at."
   ]
  },
  {
   "cell_type": "markdown",
   "id": "e4e87b99",
   "metadata": {},
   "source": [
    "### 4c. Additional Box Model Configuration\n",
    "\n",
    "Box models contain some additional configuration options that need to be defined.</br>\n",
    "These include:\n",
    "* the simulation length,\n",
    "* the chemistry step time, and\n",
    "* the output step time.\n",
    "\n",
    "To set these configurations for your box model:"
   ]
  },
  {
   "cell_type": "code",
   "execution_count": 8,
   "id": "6e00fa9a",
   "metadata": {},
   "outputs": [],
   "source": [
    "# Set the additional configuration options for the box model\n",
    "box_model.box_model_options.simulation_length = 200 # Units: Seconds (s)\n",
    "box_model.box_model_options.chem_step_time = 1 # Units: Seconds (s)\n",
    "box_model.box_model_options.output_step_time = 20 # Units: Seconds (s)"
   ]
  },
  {
   "cell_type": "markdown",
   "id": "f5164733",
   "metadata": {},
   "source": [
    "This code block sets some of the attributes of the box model's options, including:</br>\n",
    "* <b>simulation_length:</b> the number of time steps that the simulation lasts for,\n",
    "* <b>chem_step_time:</b> the number of time steps between each simulation calculation, and\n",
    "* <b>output_step_time:</b> the number of time steps between each output of the model.\n",
    "\n",
    "All three of these have seconds as their unit."
   ]
  },
  {
   "cell_type": "markdown",
   "id": "d20aa95a",
   "metadata": {},
   "source": [
    "## 5. Running and Solving Your Box Model\n",
    "\n",
    "Now, you are able to run and solve your newly-created box model.</br>\n",
    "To solve your box model, simply call its <i>solve()</i> function:"
   ]
  },
  {
   "cell_type": "code",
   "execution_count": 9,
   "id": "7e09be6b",
   "metadata": {},
   "outputs": [
    {
     "name": "stderr",
     "output_type": "stream",
     "text": [
      "                                                                                          \r"
     ]
    }
   ],
   "source": [
    "df = box_model.solve()"
   ]
  },
  {
   "cell_type": "markdown",
   "id": "4652b4ee",
   "metadata": {},
   "source": [
    "## 6. View Outputs and Visualizations\n",
    "\n",
    "MusicBox supports viewing your simulation's outputs as well as visualizing them.</br>\n",
    "To view your solved model and a basic visualization of it:"
   ]
  },
  {
   "cell_type": "code",
   "execution_count": 10,
   "id": "782b1107",
   "metadata": {},
   "outputs": [
    {
     "data": {
      "text/html": [
       "<div>\n",
       "<style scoped>\n",
       "    .dataframe tbody tr th:only-of-type {\n",
       "        vertical-align: middle;\n",
       "    }\n",
       "\n",
       "    .dataframe tbody tr th {\n",
       "        vertical-align: top;\n",
       "    }\n",
       "\n",
       "    .dataframe thead th {\n",
       "        text-align: right;\n",
       "    }\n",
       "</style>\n",
       "<table border=\"1\" class=\"dataframe\">\n",
       "  <thead>\n",
       "    <tr style=\"text-align: right;\">\n",
       "      <th></th>\n",
       "      <th>time.s</th>\n",
       "      <th>ENV.temperature.K</th>\n",
       "      <th>ENV.pressure.Pa</th>\n",
       "      <th>ENV.air number density.mol m-3</th>\n",
       "      <th>CONC.X.mol m-3</th>\n",
       "      <th>CONC.Y.mol m-3</th>\n",
       "      <th>CONC.Z.mol m-3</th>\n",
       "    </tr>\n",
       "  </thead>\n",
       "  <tbody>\n",
       "    <tr>\n",
       "      <th>0</th>\n",
       "      <td>0.0</td>\n",
       "      <td>298.15</td>\n",
       "      <td>101325.0</td>\n",
       "      <td>40.874045</td>\n",
       "      <td>3.750000</td>\n",
       "      <td>5.000000</td>\n",
       "      <td>2.500000</td>\n",
       "    </tr>\n",
       "    <tr>\n",
       "      <th>1</th>\n",
       "      <td>20.0</td>\n",
       "      <td>298.15</td>\n",
       "      <td>101325.0</td>\n",
       "      <td>40.874045</td>\n",
       "      <td>3.411490</td>\n",
       "      <td>4.871403</td>\n",
       "      <td>2.967107</td>\n",
       "    </tr>\n",
       "    <tr>\n",
       "      <th>2</th>\n",
       "      <td>40.0</td>\n",
       "      <td>298.15</td>\n",
       "      <td>101325.0</td>\n",
       "      <td>40.874045</td>\n",
       "      <td>3.103538</td>\n",
       "      <td>4.725280</td>\n",
       "      <td>3.421182</td>\n",
       "    </tr>\n",
       "    <tr>\n",
       "      <th>3</th>\n",
       "      <td>60.0</td>\n",
       "      <td>298.15</td>\n",
       "      <td>101325.0</td>\n",
       "      <td>40.874045</td>\n",
       "      <td>2.823383</td>\n",
       "      <td>4.565844</td>\n",
       "      <td>3.860773</td>\n",
       "    </tr>\n",
       "    <tr>\n",
       "      <th>4</th>\n",
       "      <td>80.0</td>\n",
       "      <td>298.15</td>\n",
       "      <td>101325.0</td>\n",
       "      <td>40.874045</td>\n",
       "      <td>2.568519</td>\n",
       "      <td>4.396687</td>\n",
       "      <td>4.284794</td>\n",
       "    </tr>\n",
       "    <tr>\n",
       "      <th>5</th>\n",
       "      <td>100.0</td>\n",
       "      <td>298.15</td>\n",
       "      <td>101325.0</td>\n",
       "      <td>40.874045</td>\n",
       "      <td>2.336660</td>\n",
       "      <td>4.220865</td>\n",
       "      <td>4.692475</td>\n",
       "    </tr>\n",
       "    <tr>\n",
       "      <th>6</th>\n",
       "      <td>120.0</td>\n",
       "      <td>310.00</td>\n",
       "      <td>100100.0</td>\n",
       "      <td>38.836331</td>\n",
       "      <td>2.127017</td>\n",
       "      <td>4.042117</td>\n",
       "      <td>5.080866</td>\n",
       "    </tr>\n",
       "    <tr>\n",
       "      <th>7</th>\n",
       "      <td>140.0</td>\n",
       "      <td>310.00</td>\n",
       "      <td>100100.0</td>\n",
       "      <td>38.836331</td>\n",
       "      <td>1.936183</td>\n",
       "      <td>3.861467</td>\n",
       "      <td>5.452350</td>\n",
       "    </tr>\n",
       "    <tr>\n",
       "      <th>8</th>\n",
       "      <td>160.0</td>\n",
       "      <td>310.00</td>\n",
       "      <td>100100.0</td>\n",
       "      <td>38.836331</td>\n",
       "      <td>1.762470</td>\n",
       "      <td>3.680695</td>\n",
       "      <td>5.806834</td>\n",
       "    </tr>\n",
       "    <tr>\n",
       "      <th>9</th>\n",
       "      <td>180.0</td>\n",
       "      <td>310.00</td>\n",
       "      <td>100100.0</td>\n",
       "      <td>38.836331</td>\n",
       "      <td>1.604343</td>\n",
       "      <td>3.501278</td>\n",
       "      <td>6.144379</td>\n",
       "    </tr>\n",
       "    <tr>\n",
       "      <th>10</th>\n",
       "      <td>200.0</td>\n",
       "      <td>310.00</td>\n",
       "      <td>100100.0</td>\n",
       "      <td>38.836331</td>\n",
       "      <td>1.460403</td>\n",
       "      <td>3.324427</td>\n",
       "      <td>6.465170</td>\n",
       "    </tr>\n",
       "  </tbody>\n",
       "</table>\n",
       "</div>"
      ],
      "text/plain": [
       "    time.s  ENV.temperature.K  ENV.pressure.Pa  \\\n",
       "0      0.0             298.15         101325.0   \n",
       "1     20.0             298.15         101325.0   \n",
       "2     40.0             298.15         101325.0   \n",
       "3     60.0             298.15         101325.0   \n",
       "4     80.0             298.15         101325.0   \n",
       "5    100.0             298.15         101325.0   \n",
       "6    120.0             310.00         100100.0   \n",
       "7    140.0             310.00         100100.0   \n",
       "8    160.0             310.00         100100.0   \n",
       "9    180.0             310.00         100100.0   \n",
       "10   200.0             310.00         100100.0   \n",
       "\n",
       "    ENV.air number density.mol m-3  CONC.X.mol m-3  CONC.Y.mol m-3  \\\n",
       "0                        40.874045        3.750000        5.000000   \n",
       "1                        40.874045        3.411490        4.871403   \n",
       "2                        40.874045        3.103538        4.725280   \n",
       "3                        40.874045        2.823383        4.565844   \n",
       "4                        40.874045        2.568519        4.396687   \n",
       "5                        40.874045        2.336660        4.220865   \n",
       "6                        38.836331        2.127017        4.042117   \n",
       "7                        38.836331        1.936183        3.861467   \n",
       "8                        38.836331        1.762470        3.680695   \n",
       "9                        38.836331        1.604343        3.501278   \n",
       "10                       38.836331        1.460403        3.324427   \n",
       "\n",
       "    CONC.Z.mol m-3  \n",
       "0         2.500000  \n",
       "1         2.967107  \n",
       "2         3.421182  \n",
       "3         3.860773  \n",
       "4         4.284794  \n",
       "5         4.692475  \n",
       "6         5.080866  \n",
       "7         5.452350  \n",
       "8         5.806834  \n",
       "9         6.144379  \n",
       "10        6.465170  "
      ]
     },
     "metadata": {},
     "output_type": "display_data"
    },
    {
     "data": {
      "image/png": "[encoded data removed]",
      "text/plain": [
       "<Figure size 640x480 with 1 Axes>"
      ]
     },
     "metadata": {},
     "output_type": "display_data"
    }
   ],
   "source": [
    "display(df)\n",
    "df.plot(x='time.s', y=['CONC.X.mol m-3', 'CONC.Y.mol m-3', 'CONC.Z.mol m-3'], title='Concentration over time', ylabel='Concentration (mol m-3)', xlabel='Time (s)')\n",
    "plt.show()"
   ]
  },
  {
   "cell_type": "markdown",
   "id": "26d32598",
   "metadata": {},
   "source": [
    "This code block prints out the output of the simulation that was just ran as well as it utilizing Python's matplotlib library to visualize it.</br>\n",
    "To do so, the <i>plot()</i> function is called, with the desired independent variable (time) and dependent variables (concentration of each species) being passed in.</br>\n",
    "The plot is also given a title as well as a label for both the x-axis and the y-axis.</br>\n",
    "Lastly, the <i>show()</i> function is called so that you can see the plot directly above this text."
   ]
  }
 ],
 "metadata": {
  "kernelspec": {
   "display_name": "musicbox",
   "language": "python",
   "name": "python3"
  },
  "language_info": {
   "codemirror_mode": {
    "name": "ipython",
    "version": 3
   },
   "file_extension": ".py",
   "mimetype": "text/x-python",
   "name": "python",
   "nbconvert_exporter": "python",
   "pygments_lexer": "ipython3",
   "version": "3.11.12"
  }
 },
 "nbformat": 4,
 "nbformat_minor": 5
}
