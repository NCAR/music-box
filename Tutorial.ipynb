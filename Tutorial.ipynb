{
 "cells": [
  {
   "cell_type": "markdown",
   "id": "05d1beeb",
   "metadata": {},
   "source": [
    "# MusicBox User Tutorial\n",
    "\n",
    "Hello, and welcome to the MusicBox user tutorial! Here, we will be covering some basic usages of the MusicBox library."
   ]
  },
  {
   "cell_type": "markdown",
   "id": "c752b1cd",
   "metadata": {},
   "source": [
    "# What is MusicBox?\n",
    "\n",
    "MusicBox is a library with a Python API for boxes and columns <b>(what does this mean exactly?)</b> that builds on top of MUSICA, a collection of modeling software, tools, and grids that allow for robust modeling of chemistry in Earth's atmosphere."
   ]
  },
  {
   "cell_type": "markdown",
   "id": "5ccc7e1b",
   "metadata": {},
   "source": [
    "# Downloading MusicBox\n",
    "\n",
    "To install MusicBox onto your device, run\n",
    "\n",
    "```\n",
    "pip install acom-music-box\n",
    "```\n",
    "\n",
    "Note: Installing MusicBox will automatically install MUSICA, a required dependency of MusicBox that is used throughout this tutorial."
   ]
  },
  {
   "cell_type": "markdown",
   "id": "f20cd18a",
   "metadata": {},
   "source": [
    "# Importing MusicBox\n",
    "\n",
    "To import your newly-downloaded MusicBox into a Python file (as well as some other libraries so that this demo can run):"
   ]
  },
  {
   "cell_type": "code",
   "execution_count": 580,
   "id": "fd1b5247",
   "metadata": {},
   "outputs": [],
   "source": [
    "from acom_music_box import MusicBox, Conditions\n",
    "import musica.mechanism_configuration as mc\n",
    "import matplotlib.pyplot as plt"
   ]
  },
  {
   "cell_type": "markdown",
   "id": "1ec851da",
   "metadata": {},
   "source": [
    "# Defining a System\n",
    "\n",
    "In MusicBox, a system represents a set of species and their respective phases.</br>\n",
    "A species is simply a reactant or product in a chemical reaction.</br>\n",
    "<b>(This probably needs a fact-check. For example, are catalysts supported?)</b></br>\n",
    "You have the freedom to name a species anything in MusicBox, just make sure that it is logical to you.</br>\n",
    "For extended documentation about the Species class, go [here](https://ncar.github.io/musica/api/python.html#musica.mechanism_configuration.Species).</br>\n",
    "Here is an example function of a basic Arrhenius reaction:"
   ]
  },
  {
   "cell_type": "code",
   "execution_count": 581,
   "id": "654b7e30",
   "metadata": {},
   "outputs": [],
   "source": [
    "class Tutorial:\n",
    "    def define_system(self):\n",
    "        X = mc.Species(name=\"X\")\n",
    "        Y = mc.Species(name=\"Y\")\n",
    "        Z = mc.Species(name=\"Z\")\n",
    "        species = {\"X\": X, \"Y\": Y, \"Z\": Z}\n",
    "        gas = mc.Phase(name=\"gas\", species=list(species.values()))\n",
    "        return gas, species"
   ]
  },
  {
   "cell_type": "markdown",
   "id": "9e6190b7",
   "metadata": {},
   "source": [
    "The define_system() function creates 3 species called X, Y, and Z and adds them to a dictionary called species.</br>\n",
    "Next, a gas object is created to represent the phase of the species and then the gas and species objects are returned."
   ]
  },
  {
   "cell_type": "markdown",
   "id": "1afce428",
   "metadata": {},
   "source": [
    "# Defining Reactions\n",
    "\n",
    "A chemical reaction is a process that results into a set of reactants transforming into a set of products.</br>\n",
    "To define a reaction in MusicBox:"
   ]
  },
  {
   "cell_type": "code",
   "execution_count": 582,
   "id": "bf790275",
   "metadata": {},
   "outputs": [],
   "source": [
    "class Tutorial(Tutorial):\n",
    "    def define_reactions(self, gas, species):\n",
    "        arr1 = mc.Arrhenius(name=\"X->Y\", A=4.0e-3, C=50, reactants=[species[\"X\"]], products=[species[\"Y\"]], gas_phase=gas)\n",
    "        arr2 = mc.Arrhenius(name=\"Y->Z\", A=4.0e-3, C=50, reactants=[species[\"Y\"]], products=[species[\"Z\"]], gas_phase=gas)\n",
    "        # Not sure what to do with the constants here\n",
    "        rxns = {\"X->Y\": arr1, \"Y->Z\": arr2}\n",
    "        return rxns"
   ]
  },
  {
   "cell_type": "markdown",
   "id": "00cb442b",
   "metadata": {},
   "source": [
    "The define_reaction() function takes in the gas and species variables returned from the define_system() function.</br>\n",
    "Using the species and gas variables, the function creates two reactions: arr1 and arr2.</br>\n",
    "The arr1 variable represents the conversion of the X reacant into the Y product with some pre-defined constants as well.</br>\n",
    "The arr2 variable is just like arr1, but instead it represents the conversion of the Y reactant into the Z product.</br>\n",
    "These reactions are then bundled into a dictionary called rxns just like the species before, and it is returned.</br>"
   ]
  },
  {
   "cell_type": "markdown",
   "id": "e0dc5d3b",
   "metadata": {},
   "source": [
    "### Types of Reactions Supported by MusicBox\n",
    "\n",
    "MusicBox allows for users to experiment with an array of reaction types.</br>\n",
    "Go [here](https://ncar.github.io/musica/api/python.html#module-musica.mechanism_configuration) to view a list of supported reactions and their parameters."
   ]
  },
  {
   "cell_type": "markdown",
   "id": "f465f101",
   "metadata": {},
   "source": [
    "# Defining Mechanisms\n",
    "\n",
    "A mechanism represents a set of species with their respective phases and reactions.</br>\n",
    "For extended documentation about the Mechanism class, go [here](https://ncar.github.io/musica/api/python.html#musica.mechanism_configuration.Mechanism).</br>\n",
    "To create a mechanism in MusicBox:"
   ]
  },
  {
   "cell_type": "code",
   "execution_count": 583,
   "id": "25da888c",
   "metadata": {},
   "outputs": [],
   "source": [
    "class Tutorial(Tutorial):\n",
    "    def define_mechanism(self, gas, species, rxns):\n",
    "        mechanism = mc.Mechanism(name=\"tutorial_mechanism\", species=list(species.values()), phases=[gas], reactions=list(rxns.values()))\n",
    "        return mechanism"
   ]
  },
  {
   "cell_type": "markdown",
   "id": "b4ee16f5",
   "metadata": {},
   "source": [
    "The define_mechanism() function builds upon the previous two functions, taking in the previously-returned gas, species, and rxn as parameters.</br>\n",
    "This function simply creates a mechanism variable that represents an instance of the Mechanism class.</br>\n",
    "The mechanism is first given a name, then the species, gas, and rxns are passed into their respective parameters.</br>\n",
    "It is then returned from the function."
   ]
  },
  {
   "cell_type": "markdown",
   "id": "6cbf0090",
   "metadata": {},
   "source": [
    "# Creating a Box Model\n",
    "\n",
    "Box models allow you to encase your previously-created mechanism and add conditions that can change the reactions' rates over time.</br>\n",
    "You can also define the length of the simulations and the time steps.</br>\n",
    "To initialize a new box model:"
   ]
  },
  {
   "cell_type": "code",
   "execution_count": 584,
   "id": "ae8134a6",
   "metadata": {},
   "outputs": [],
   "source": [
    "class Tutorial(Tutorial):\n",
    "    def create_box_model(self, mechanism):\n",
    "        box_model = MusicBox()\n",
    "        box_model.load_mechanism(mechanism)\n",
    "        return box_model"
   ]
  },
  {
   "cell_type": "markdown",
   "id": "e1ecacc8",
   "metadata": {},
   "source": [
    "The create_box_model() function is straightforward, simply creating an instance of the MusicBox class and then loading the mechanism through the passed-in parameter.</br>\n",
    "The box_model is then returned from the function."
   ]
  },
  {
   "cell_type": "markdown",
   "id": "aa814af4",
   "metadata": {},
   "source": [
    "## Adding an Initial Condition to Your Box Model\n",
    "\n",
    "The initial conditions of the model define the environment the mechanism takes place in at the start of the simulation.</br>\n",
    "For extended documentation about the Conditions class, go [here](https://ncar.github.io/musica/api/python.html#musica.types.Conditions).</br>\n",
    "To set the initial conditions of your box model:"
   ]
  },
  {
   "cell_type": "code",
   "execution_count": 585,
   "id": "3e83223d",
   "metadata": {},
   "outputs": [],
   "source": [
    "class Tutorial(Tutorial):\n",
    "    def set_initial_conditions(self, box_model):\n",
    "        box_model.initial_conditions = Conditions(\n",
    "            temperature=298.15,\n",
    "            pressure=101325.0,\n",
    "            species_concentrations={\n",
    "                \"X\": 3.75,\n",
    "                \"Y\": 5.0,\n",
    "                \"Z\": 2.5,\n",
    "            }\n",
    "        )\n",
    "        return box_model"
   ]
  },
  {
   "cell_type": "markdown",
   "id": "021d5e5d",
   "metadata": {},
   "source": [
    "The set_initial_conditions() function takes in the box_model as a parameter and calls its initial_conditons function.</br>\n",
    "In the condition class, you should provide a temperature, pressure, air density (unless you just want it based on the Ideal Gas Law, which is the default), and each of the species' concentrations.</br>\n",
    "The updated box_model is then returned from the function."
   ]
  },
  {
   "cell_type": "markdown",
   "id": "c49c4078",
   "metadata": {},
   "source": [
    "## Adding Evolving Conditions to Your Box Model\n",
    "\n",
    "An evolving condition will change the environment of the mechanism at the defined time value (the first value in the function).</br>\n",
    "These changes can include species concentration, temperature, pressure, et cetera.</br>\n",
    "To create an evolving condition for your box model:"
   ]
  },
  {
   "cell_type": "code",
   "execution_count": 586,
   "id": "b157a3e8",
   "metadata": {},
   "outputs": [],
   "source": [
    "class Tutorial(Tutorial):\n",
    "    def set_evolving_condition(self, box_model):\n",
    "        box_model.add_evolving_condition(\n",
    "            100.0,\n",
    "            Conditions(\n",
    "                temperature=310.0,\n",
    "                pressure=100100.0\n",
    "            )\n",
    "        )\n",
    "        return box_model"
   ]
  },
  {
   "cell_type": "markdown",
   "id": "9c7b120f",
   "metadata": {},
   "source": [
    "The set_evolving_condition() function is similar to the set_initial_conditions() function, with it taking in a box_model as a parameter.</br>\n",
    "Just like in set_initial_conditions(), a Conditions object is inserted into one of the box_model's function, this time being its add_evolving_condition() function.</br>\n",
    "However, there is now a new value put at the very beginning of the function that represents the time at which the evolving conditions takes place at.</br>\n",
    "Once that is all done, the updated box_model is returned from the function."
   ]
  },
  {
   "cell_type": "markdown",
   "id": "e4e87b99",
   "metadata": {},
   "source": [
    "## Additional Box Model Parameters\n",
    "\n",
    "Box models contain some additional parameters that need to be defined</br>\n",
    "These include the simulation length (how long the simulation lasts for),</br>\n",
    "the chemistry step time (the number of time steps between each part of the mechanism),</br>\n",
    "and the output step time (the number of time steps between each output of the mechanism).</br>\n",
    "To set these parameters for your box model:"
   ]
  },
  {
   "cell_type": "code",
   "execution_count": 587,
   "id": "6e00fa9a",
   "metadata": {},
   "outputs": [],
   "source": [
    "class Tutorial(Tutorial):\n",
    "    def set_box_model_parameters(self, box_model):\n",
    "        box_model.box_model_options.simulation_length = 200\n",
    "        box_model.box_model_options.chem_step_time = 1\n",
    "        box_model.box_model_options.output_step_time = 25\n",
    "        return box_model"
   ]
  },
  {
   "cell_type": "markdown",
   "id": "f5164733",
   "metadata": {},
   "source": [
    "The set_box_model_parameters() takes in the box_model as a parameters and sets some if its attributes, including:</br>\n",
    "<b>simulation_length:</b> the number of time steps that the simulation lasts for.</br>\n",
    "<b>chem_step_time:</b> the number of time steps between each simulation calculation.</br>\n",
    "<b>output_step_time:</b> the number of time steps between each output of the model.</br>\n",
    "The updated box_model is then returned from the function."
   ]
  },
  {
   "cell_type": "markdown",
   "id": "d20aa95a",
   "metadata": {},
   "source": [
    "# Running and Solving Your Box Model\n",
    "\n",
    "Now, you are able to run and solve your newly-created box model.</br>\n",
    "To solve your box model:"
   ]
  },
  {
   "cell_type": "code",
   "execution_count": 588,
   "id": "e481896b",
   "metadata": {},
   "outputs": [
    {
     "name": "stderr",
     "output_type": "stream",
     "text": [
      "                                                                                          \r"
     ]
    }
   ],
   "source": [
    "tutorial = Tutorial()\n",
    "gas, species = tutorial.define_system()\n",
    "reactions = tutorial.define_reactions(gas, species)\n",
    "mechanism = tutorial.define_mechanism(gas, species, reactions)\n",
    "box_model = tutorial.create_box_model(mechanism)\n",
    "box_model = tutorial.set_initial_conditions(box_model)\n",
    "box_model = tutorial.set_evolving_condition(box_model)\n",
    "box_model = tutorial.set_box_model_parameters(box_model)\n",
    "df = box_model.solve()"
   ]
  },
  {
   "cell_type": "markdown",
   "id": "0b3e3d92",
   "metadata": {},
   "source": [
    "This section takes all the functions built in the previous code cells and runs them all sequentially.</br>\n",
    "Though, the Tutorial object does need to be created first so that you can access the functions.</br>\n",
    "Once you run all of the functions in the correct order, your model is ready to be solved, which is done simply by calling the solve() function on your box_model."
   ]
  },
  {
   "cell_type": "markdown",
   "id": "4652b4ee",
   "metadata": {},
   "source": [
    "# View Outputs and Visualizations\n",
    "\n",
    "MusicBox supports viewing your simulation's outputs as well as visualizing it.</br>\n",
    "To view your solved model and a basic visualization of it:"
   ]
  },
  {
   "cell_type": "code",
   "execution_count": 589,
   "id": "782b1107",
   "metadata": {},
   "outputs": [
    {
     "name": "stdout",
     "output_type": "stream",
     "text": [
      "   time.s  ENV.temperature.K  ENV.pressure.Pa  ENV.air number density.mol m-3  \\\n",
      "0     0.0             298.15         101325.0                       40.874045   \n",
      "1    25.0             298.15         101325.0                       40.874045   \n",
      "2    50.0             298.15         101325.0                       40.874045   \n",
      "3    75.0             298.15         101325.0                       40.874045   \n",
      "4   100.0             298.15         101325.0                       40.874045   \n",
      "5   125.0             310.00         100100.0                       38.836331   \n",
      "6   150.0             310.00         100100.0                       38.836331   \n",
      "7   175.0             310.00         100100.0                       38.836331   \n",
      "8   200.0             310.00         100100.0                       38.836331   \n",
      "\n",
      "   CONC.X.mol m-3  CONC.Y.mol m-3  CONC.Z.mol m-3  \n",
      "0        3.750000        5.000000        2.500000  \n",
      "1        3.331750        4.836340        3.081911  \n",
      "2        2.960148        4.646988        3.642864  \n",
      "3        2.629993        4.439712        4.180296  \n",
      "4        2.336660        4.220865        4.692475  \n",
      "5        2.077614        3.997057        5.175329  \n",
      "6        1.847286        3.770997        5.631717  \n",
      "7        1.642493        3.545935        6.061573  \n",
      "8        1.460403        3.324427        6.465170  \n"
     ]
    },
    {
     "data": {
      "image/png": "[encoded data removed]",
      "text/plain": [
       "<Figure size 640x480 with 1 Axes>"
      ]
     },
     "metadata": {},
     "output_type": "display_data"
    }
   ],
   "source": [
    "print(df)\n",
    "df.plot(x='time.s', y=['CONC.X.mol m-3', 'CONC.Y.mol m-3', 'CONC.Z.mol m-3'], title='Concentration over time', ylabel='Concentration (mol m-3)', xlabel='Time (s)')\n",
    "plt.show()"
   ]
  },
  {
   "cell_type": "markdown",
   "id": "26d32598",
   "metadata": {},
   "source": [
    "This code snippet prints out the output of the simulation that was just ran as well as it utilizing Python's matplotlib library to visualize it.</br>\n",
    "To do so, the plot() function is called, with the desired independent variable (time) and dependent variables (concentration of each species) being passed in.</br>\n",
    "The plot is also given a title as well as a label for both the x-axis and the y-axis.</br>\n",
    "Lastly, the show() function is called so that you can see the plot directly above this text."
   ]
  },
  {
   "cell_type": "markdown",
   "id": "c3b3fa40",
   "metadata": {},
   "source": [
    "# "
   ]
  },
  {
   "cell_type": "markdown",
   "id": "b93ac517",
   "metadata": {},
   "source": [
    "# Full Code Snippet\n",
    "\n",
    "Here is all the code compiled into one code block for easier viewing and running:"
   ]
  },
  {
   "cell_type": "code",
   "execution_count": 590,
   "id": "4e0bd763",
   "metadata": {},
   "outputs": [
    {
     "name": "stderr",
     "output_type": "stream",
     "text": [
      "                                                                                          "
     ]
    },
    {
     "name": "stdout",
     "output_type": "stream",
     "text": [
      "   time.s  ENV.temperature.K  ENV.pressure.Pa  ENV.air number density.mol m-3  \\\n",
      "0     0.0             298.15         101325.0                       40.874045   \n",
      "1    25.0             298.15         101325.0                       40.874045   \n",
      "2    50.0             298.15         101325.0                       40.874045   \n",
      "3    75.0             298.15         101325.0                       40.874045   \n",
      "4   100.0             298.15         101325.0                       40.874045   \n",
      "5   125.0             310.00         100100.0                       38.836331   \n",
      "6   150.0             310.00         100100.0                       38.836331   \n",
      "7   175.0             310.00         100100.0                       38.836331   \n",
      "8   200.0             310.00         100100.0                       38.836331   \n",
      "\n",
      "   CONC.X.mol m-3  CONC.Y.mol m-3  CONC.Z.mol m-3  \n",
      "0        3.750000        5.000000        2.500000  \n",
      "1        3.331750        4.836340        3.081911  \n",
      "2        2.960148        4.646988        3.642864  \n",
      "3        2.629993        4.439712        4.180296  \n",
      "4        2.336660        4.220865        4.692475  \n",
      "5        2.077614        3.997057        5.175329  \n",
      "6        1.847286        3.770997        5.631717  \n",
      "7        1.642493        3.545935        6.061573  \n",
      "8        1.460403        3.324427        6.465170  \n"
     ]
    },
    {
     "name": "stderr",
     "output_type": "stream",
     "text": [
      "\r"
     ]
    },
    {
     "data": {
      "image/png": "[encoded data removed]",
      "text/plain": [
       "<Figure size 640x480 with 1 Axes>"
      ]
     },
     "metadata": {},
     "output_type": "display_data"
    }
   ],
   "source": [
    "from acom_music_box import MusicBox, Conditions\n",
    "import musica.mechanism_configuration as mc\n",
    "import matplotlib.pyplot as plt\n",
    "\n",
    "class Tutorial:\n",
    "    def define_system(self):\n",
    "        X = mc.Species(name=\"X\")\n",
    "        Y = mc.Species(name=\"Y\")\n",
    "        Z = mc.Species(name=\"Z\")\n",
    "        species = {\"X\": X, \"Y\": Y, \"Z\": Z}\n",
    "        gas = mc.Phase(name=\"gas\", species=list(species.values()))\n",
    "        return gas, species\n",
    "    def define_reactions(self, gas, species):\n",
    "        arr1 = mc.Arrhenius(name=\"X->Y\", A=4.0e-3, C=50, reactants=[species[\"X\"]], products=[species[\"Y\"]], gas_phase=gas)\n",
    "        arr2 = mc.Arrhenius(name=\"Y->Z\", A=4.0e-3, C=50, reactants=[species[\"Y\"]], products=[species[\"Z\"]], gas_phase=gas)\n",
    "        # Not sure what to do with the constants here\n",
    "        rxns = {\"X->Y\": arr1, \"Y->Z\": arr2}\n",
    "        return rxns\n",
    "    def define_mechanism(self, gas, species, rxns):\n",
    "        mechanism = mc.Mechanism(name=\"tutorial_mechanism\", species=list(species.values()), phases=[gas], reactions=list(rxns.values()))\n",
    "        return mechanism\n",
    "    def create_box_model(self, mechanism):\n",
    "        box_model = MusicBox()\n",
    "        box_model.load_mechanism(mechanism)\n",
    "        return box_model\n",
    "    def set_initial_conditions(self, box_model):\n",
    "        box_model.initial_conditions = Conditions(\n",
    "            temperature=298.15,\n",
    "            pressure=101325.0,\n",
    "            species_concentrations={\n",
    "                \"X\": 3.75,\n",
    "                \"Y\": 5.0,\n",
    "                \"Z\": 2.5,\n",
    "            }\n",
    "        )\n",
    "        return box_model\n",
    "    def set_evolving_condition(self, box_model):\n",
    "        box_model.add_evolving_condition(\n",
    "            100.0,\n",
    "            Conditions(\n",
    "                temperature=310.0,\n",
    "                pressure=100100.0\n",
    "            )\n",
    "        )\n",
    "        return box_model\n",
    "    def set_box_model_parameters(self, box_model):\n",
    "        box_model.box_model_options.simulation_length = 200\n",
    "        box_model.box_model_options.chem_step_time = 1\n",
    "        box_model.box_model_options.output_step_time = 25\n",
    "        return box_model\n",
    "    \n",
    "if __name__ == \"__main__\":\n",
    "    tutorial = Tutorial()\n",
    "    gas, species = tutorial.define_system()\n",
    "    reactions = tutorial.define_reactions(gas, species)\n",
    "    mechanism = tutorial.define_mechanism(gas, species, reactions)\n",
    "    box_model = tutorial.create_box_model(mechanism)\n",
    "    box_model = tutorial.set_initial_conditions(box_model)\n",
    "    box_model = tutorial.set_evolving_condition(box_model)\n",
    "    box_model = tutorial.set_box_model_parameters(box_model)\n",
    "    df = box_model.solve()\n",
    "    print(df)\n",
    "    df.plot(x='time.s', y=['CONC.X.mol m-3', 'CONC.Y.mol m-3', 'CONC.Z.mol m-3'], title='Concentration over time', ylabel='Concentration (mol m-3)', xlabel='Time (s)')\n",
    "    plt.show()"
   ]
  }
 ],
 "metadata": {
  "kernelspec": {
   "display_name": "musicbox",
   "language": "python",
   "name": "python3"
  },
  "language_info": {
   "codemirror_mode": {
    "name": "ipython",
    "version": 3
   },
   "file_extension": ".py",
   "mimetype": "text/x-python",
   "name": "python",
   "nbconvert_exporter": "python",
   "pygments_lexer": "ipython3",
   "version": "3.11.12"
  }
 },
 "nbformat": 4,
 "nbformat_minor": 5
}
